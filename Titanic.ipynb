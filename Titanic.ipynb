{
  "nbformat": 4,
  "nbformat_minor": 0,
  "metadata": {
    "colab": {
      "provenance": [],
      "toc_visible": true
    },
    "kernelspec": {
      "name": "python3",
      "display_name": "Python 3"
    },
    "language_info": {
      "name": "python"
    }
  },
  "cells": [
    {
      "cell_type": "markdown",
      "source": [
        "# Titanic - Machine Learning from Disaster\n",
        "In this notebook I will carry out various approaches for coming up with a prediction model for the popular 'Titanic' dataset task, with the aim of predicting based on various features, who survived the Titanic.\n",
        "\n",
        "This project has been split in the following sections:\n",
        "\n",
        "__1. Data Exploration & Visualization__\n",
        "\n",
        "__2. Model 1: Neglect Age Due To Missing Values__\n",
        "\n",
        "__3. Model 2: Imputation For Missing Values__\n",
        "\n",
        "__4. Model 3: Multilayer Perceptron__\n",
        "\n",
        "__5. Submission!__"
      ],
      "metadata": {
        "id": "WYi9DiznCiEJ"
      }
    },
    {
      "cell_type": "code",
      "source": [
        "import pandas as pd\n",
        "import scipy\n",
        "import numpy as np\n",
        "import matplotlib.pyplot as plt\n",
        "import plotly.express as px\n",
        "import seaborn as sns\n",
        "from sklearn.linear_model import LogisticRegression\n",
        "from sklearn.metrics import classification_report\n",
        "from sklearn.model_selection import train_test_split\n",
        "from sklearn.ensemble import RandomForestClassifier, GradientBoostingClassifier\n",
        "from sklearn.svm import SVC\n",
        "from sklearn.tree import DecisionTreeClassifier\n",
        "from sklearn.model_selection import GridSearchCV\n",
        "from sklearn.preprocessing import StandardScaler\n",
        "from sklearn.impute import SimpleImputer, KNNImputer"
      ],
      "metadata": {
        "id": "z5ISYFOMC8eE"
      },
      "execution_count": 2,
      "outputs": []
    },
    {
      "cell_type": "markdown",
      "source": [
        "## 1. Data Exploration & Visualization"
      ],
      "metadata": {
        "id": "o0ABHPhmC2eE"
      }
    },
    {
      "cell_type": "code",
      "source": [
        "# Loading in our data\n",
        "DIR = 'drive/MyDrive/PhD/training/titanic/'\n",
        "df_train = pd.read_csv(DIR + 'train.csv')\n",
        "df_train"
      ],
      "metadata": {
        "colab": {
          "base_uri": "https://localhost:8080/",
          "height": 537
        },
        "id": "Ra08C7-hC1Tg",
        "outputId": "fe2292f2-30ff-47dc-b328-5ecdc15a54a2"
      },
      "execution_count": 3,
      "outputs": [
        {
          "output_type": "execute_result",
          "data": {
            "text/plain": [
              "     PassengerId  Survived  Pclass  \\\n",
              "0              1         0       3   \n",
              "1              2         1       1   \n",
              "2              3         1       3   \n",
              "3              4         1       1   \n",
              "4              5         0       3   \n",
              "..           ...       ...     ...   \n",
              "886          887         0       2   \n",
              "887          888         1       1   \n",
              "888          889         0       3   \n",
              "889          890         1       1   \n",
              "890          891         0       3   \n",
              "\n",
              "                                                  Name     Sex   Age  SibSp  \\\n",
              "0                              Braund, Mr. Owen Harris    male  22.0      1   \n",
              "1    Cumings, Mrs. John Bradley (Florence Briggs Th...  female  38.0      1   \n",
              "2                               Heikkinen, Miss. Laina  female  26.0      0   \n",
              "3         Futrelle, Mrs. Jacques Heath (Lily May Peel)  female  35.0      1   \n",
              "4                             Allen, Mr. William Henry    male  35.0      0   \n",
              "..                                                 ...     ...   ...    ...   \n",
              "886                              Montvila, Rev. Juozas    male  27.0      0   \n",
              "887                       Graham, Miss. Margaret Edith  female  19.0      0   \n",
              "888           Johnston, Miss. Catherine Helen \"Carrie\"  female   NaN      1   \n",
              "889                              Behr, Mr. Karl Howell    male  26.0      0   \n",
              "890                                Dooley, Mr. Patrick    male  32.0      0   \n",
              "\n",
              "     Parch            Ticket     Fare Cabin Embarked  \n",
              "0        0         A/5 21171   7.2500   NaN        S  \n",
              "1        0          PC 17599  71.2833   C85        C  \n",
              "2        0  STON/O2. 3101282   7.9250   NaN        S  \n",
              "3        0            113803  53.1000  C123        S  \n",
              "4        0            373450   8.0500   NaN        S  \n",
              "..     ...               ...      ...   ...      ...  \n",
              "886      0            211536  13.0000   NaN        S  \n",
              "887      0            112053  30.0000   B42        S  \n",
              "888      2        W./C. 6607  23.4500   NaN        S  \n",
              "889      0            111369  30.0000  C148        C  \n",
              "890      0            370376   7.7500   NaN        Q  \n",
              "\n",
              "[891 rows x 12 columns]"
            ],
            "text/html": [
              "\n",
              "  <div id=\"df-71e79d71-4537-48a9-941e-f9593b56c740\">\n",
              "    <div class=\"colab-df-container\">\n",
              "      <div>\n",
              "<style scoped>\n",
              "    .dataframe tbody tr th:only-of-type {\n",
              "        vertical-align: middle;\n",
              "    }\n",
              "\n",
              "    .dataframe tbody tr th {\n",
              "        vertical-align: top;\n",
              "    }\n",
              "\n",
              "    .dataframe thead th {\n",
              "        text-align: right;\n",
              "    }\n",
              "</style>\n",
              "<table border=\"1\" class=\"dataframe\">\n",
              "  <thead>\n",
              "    <tr style=\"text-align: right;\">\n",
              "      <th></th>\n",
              "      <th>PassengerId</th>\n",
              "      <th>Survived</th>\n",
              "      <th>Pclass</th>\n",
              "      <th>Name</th>\n",
              "      <th>Sex</th>\n",
              "      <th>Age</th>\n",
              "      <th>SibSp</th>\n",
              "      <th>Parch</th>\n",
              "      <th>Ticket</th>\n",
              "      <th>Fare</th>\n",
              "      <th>Cabin</th>\n",
              "      <th>Embarked</th>\n",
              "    </tr>\n",
              "  </thead>\n",
              "  <tbody>\n",
              "    <tr>\n",
              "      <th>0</th>\n",
              "      <td>1</td>\n",
              "      <td>0</td>\n",
              "      <td>3</td>\n",
              "      <td>Braund, Mr. Owen Harris</td>\n",
              "      <td>male</td>\n",
              "      <td>22.0</td>\n",
              "      <td>1</td>\n",
              "      <td>0</td>\n",
              "      <td>A/5 21171</td>\n",
              "      <td>7.2500</td>\n",
              "      <td>NaN</td>\n",
              "      <td>S</td>\n",
              "    </tr>\n",
              "    <tr>\n",
              "      <th>1</th>\n",
              "      <td>2</td>\n",
              "      <td>1</td>\n",
              "      <td>1</td>\n",
              "      <td>Cumings, Mrs. John Bradley (Florence Briggs Th...</td>\n",
              "      <td>female</td>\n",
              "      <td>38.0</td>\n",
              "      <td>1</td>\n",
              "      <td>0</td>\n",
              "      <td>PC 17599</td>\n",
              "      <td>71.2833</td>\n",
              "      <td>C85</td>\n",
              "      <td>C</td>\n",
              "    </tr>\n",
              "    <tr>\n",
              "      <th>2</th>\n",
              "      <td>3</td>\n",
              "      <td>1</td>\n",
              "      <td>3</td>\n",
              "      <td>Heikkinen, Miss. Laina</td>\n",
              "      <td>female</td>\n",
              "      <td>26.0</td>\n",
              "      <td>0</td>\n",
              "      <td>0</td>\n",
              "      <td>STON/O2. 3101282</td>\n",
              "      <td>7.9250</td>\n",
              "      <td>NaN</td>\n",
              "      <td>S</td>\n",
              "    </tr>\n",
              "    <tr>\n",
              "      <th>3</th>\n",
              "      <td>4</td>\n",
              "      <td>1</td>\n",
              "      <td>1</td>\n",
              "      <td>Futrelle, Mrs. Jacques Heath (Lily May Peel)</td>\n",
              "      <td>female</td>\n",
              "      <td>35.0</td>\n",
              "      <td>1</td>\n",
              "      <td>0</td>\n",
              "      <td>113803</td>\n",
              "      <td>53.1000</td>\n",
              "      <td>C123</td>\n",
              "      <td>S</td>\n",
              "    </tr>\n",
              "    <tr>\n",
              "      <th>4</th>\n",
              "      <td>5</td>\n",
              "      <td>0</td>\n",
              "      <td>3</td>\n",
              "      <td>Allen, Mr. William Henry</td>\n",
              "      <td>male</td>\n",
              "      <td>35.0</td>\n",
              "      <td>0</td>\n",
              "      <td>0</td>\n",
              "      <td>373450</td>\n",
              "      <td>8.0500</td>\n",
              "      <td>NaN</td>\n",
              "      <td>S</td>\n",
              "    </tr>\n",
              "    <tr>\n",
              "      <th>...</th>\n",
              "      <td>...</td>\n",
              "      <td>...</td>\n",
              "      <td>...</td>\n",
              "      <td>...</td>\n",
              "      <td>...</td>\n",
              "      <td>...</td>\n",
              "      <td>...</td>\n",
              "      <td>...</td>\n",
              "      <td>...</td>\n",
              "      <td>...</td>\n",
              "      <td>...</td>\n",
              "      <td>...</td>\n",
              "    </tr>\n",
              "    <tr>\n",
              "      <th>886</th>\n",
              "      <td>887</td>\n",
              "      <td>0</td>\n",
              "      <td>2</td>\n",
              "      <td>Montvila, Rev. Juozas</td>\n",
              "      <td>male</td>\n",
              "      <td>27.0</td>\n",
              "      <td>0</td>\n",
              "      <td>0</td>\n",
              "      <td>211536</td>\n",
              "      <td>13.0000</td>\n",
              "      <td>NaN</td>\n",
              "      <td>S</td>\n",
              "    </tr>\n",
              "    <tr>\n",
              "      <th>887</th>\n",
              "      <td>888</td>\n",
              "      <td>1</td>\n",
              "      <td>1</td>\n",
              "      <td>Graham, Miss. Margaret Edith</td>\n",
              "      <td>female</td>\n",
              "      <td>19.0</td>\n",
              "      <td>0</td>\n",
              "      <td>0</td>\n",
              "      <td>112053</td>\n",
              "      <td>30.0000</td>\n",
              "      <td>B42</td>\n",
              "      <td>S</td>\n",
              "    </tr>\n",
              "    <tr>\n",
              "      <th>888</th>\n",
              "      <td>889</td>\n",
              "      <td>0</td>\n",
              "      <td>3</td>\n",
              "      <td>Johnston, Miss. Catherine Helen \"Carrie\"</td>\n",
              "      <td>female</td>\n",
              "      <td>NaN</td>\n",
              "      <td>1</td>\n",
              "      <td>2</td>\n",
              "      <td>W./C. 6607</td>\n",
              "      <td>23.4500</td>\n",
              "      <td>NaN</td>\n",
              "      <td>S</td>\n",
              "    </tr>\n",
              "    <tr>\n",
              "      <th>889</th>\n",
              "      <td>890</td>\n",
              "      <td>1</td>\n",
              "      <td>1</td>\n",
              "      <td>Behr, Mr. Karl Howell</td>\n",
              "      <td>male</td>\n",
              "      <td>26.0</td>\n",
              "      <td>0</td>\n",
              "      <td>0</td>\n",
              "      <td>111369</td>\n",
              "      <td>30.0000</td>\n",
              "      <td>C148</td>\n",
              "      <td>C</td>\n",
              "    </tr>\n",
              "    <tr>\n",
              "      <th>890</th>\n",
              "      <td>891</td>\n",
              "      <td>0</td>\n",
              "      <td>3</td>\n",
              "      <td>Dooley, Mr. Patrick</td>\n",
              "      <td>male</td>\n",
              "      <td>32.0</td>\n",
              "      <td>0</td>\n",
              "      <td>0</td>\n",
              "      <td>370376</td>\n",
              "      <td>7.7500</td>\n",
              "      <td>NaN</td>\n",
              "      <td>Q</td>\n",
              "    </tr>\n",
              "  </tbody>\n",
              "</table>\n",
              "<p>891 rows × 12 columns</p>\n",
              "</div>\n",
              "      <button class=\"colab-df-convert\" onclick=\"convertToInteractive('df-71e79d71-4537-48a9-941e-f9593b56c740')\"\n",
              "              title=\"Convert this dataframe to an interactive table.\"\n",
              "              style=\"display:none;\">\n",
              "        \n",
              "  <svg xmlns=\"http://www.w3.org/2000/svg\" height=\"24px\"viewBox=\"0 0 24 24\"\n",
              "       width=\"24px\">\n",
              "    <path d=\"M0 0h24v24H0V0z\" fill=\"none\"/>\n",
              "    <path d=\"M18.56 5.44l.94 2.06.94-2.06 2.06-.94-2.06-.94-.94-2.06-.94 2.06-2.06.94zm-11 1L8.5 8.5l.94-2.06 2.06-.94-2.06-.94L8.5 2.5l-.94 2.06-2.06.94zm10 10l.94 2.06.94-2.06 2.06-.94-2.06-.94-.94-2.06-.94 2.06-2.06.94z\"/><path d=\"M17.41 7.96l-1.37-1.37c-.4-.4-.92-.59-1.43-.59-.52 0-1.04.2-1.43.59L10.3 9.45l-7.72 7.72c-.78.78-.78 2.05 0 2.83L4 21.41c.39.39.9.59 1.41.59.51 0 1.02-.2 1.41-.59l7.78-7.78 2.81-2.81c.8-.78.8-2.07 0-2.86zM5.41 20L4 18.59l7.72-7.72 1.47 1.35L5.41 20z\"/>\n",
              "  </svg>\n",
              "      </button>\n",
              "      \n",
              "  <style>\n",
              "    .colab-df-container {\n",
              "      display:flex;\n",
              "      flex-wrap:wrap;\n",
              "      gap: 12px;\n",
              "    }\n",
              "\n",
              "    .colab-df-convert {\n",
              "      background-color: #E8F0FE;\n",
              "      border: none;\n",
              "      border-radius: 50%;\n",
              "      cursor: pointer;\n",
              "      display: none;\n",
              "      fill: #1967D2;\n",
              "      height: 32px;\n",
              "      padding: 0 0 0 0;\n",
              "      width: 32px;\n",
              "    }\n",
              "\n",
              "    .colab-df-convert:hover {\n",
              "      background-color: #E2EBFA;\n",
              "      box-shadow: 0px 1px 2px rgba(60, 64, 67, 0.3), 0px 1px 3px 1px rgba(60, 64, 67, 0.15);\n",
              "      fill: #174EA6;\n",
              "    }\n",
              "\n",
              "    [theme=dark] .colab-df-convert {\n",
              "      background-color: #3B4455;\n",
              "      fill: #D2E3FC;\n",
              "    }\n",
              "\n",
              "    [theme=dark] .colab-df-convert:hover {\n",
              "      background-color: #434B5C;\n",
              "      box-shadow: 0px 1px 3px 1px rgba(0, 0, 0, 0.15);\n",
              "      filter: drop-shadow(0px 1px 2px rgba(0, 0, 0, 0.3));\n",
              "      fill: #FFFFFF;\n",
              "    }\n",
              "  </style>\n",
              "\n",
              "      <script>\n",
              "        const buttonEl =\n",
              "          document.querySelector('#df-71e79d71-4537-48a9-941e-f9593b56c740 button.colab-df-convert');\n",
              "        buttonEl.style.display =\n",
              "          google.colab.kernel.accessAllowed ? 'block' : 'none';\n",
              "\n",
              "        async function convertToInteractive(key) {\n",
              "          const element = document.querySelector('#df-71e79d71-4537-48a9-941e-f9593b56c740');\n",
              "          const dataTable =\n",
              "            await google.colab.kernel.invokeFunction('convertToInteractive',\n",
              "                                                     [key], {});\n",
              "          if (!dataTable) return;\n",
              "\n",
              "          const docLinkHtml = 'Like what you see? Visit the ' +\n",
              "            '<a target=\"_blank\" href=https://colab.research.google.com/notebooks/data_table.ipynb>data table notebook</a>'\n",
              "            + ' to learn more about interactive tables.';\n",
              "          element.innerHTML = '';\n",
              "          dataTable['output_type'] = 'display_data';\n",
              "          await google.colab.output.renderOutput(dataTable, element);\n",
              "          const docLink = document.createElement('div');\n",
              "          docLink.innerHTML = docLinkHtml;\n",
              "          element.appendChild(docLink);\n",
              "        }\n",
              "      </script>\n",
              "    </div>\n",
              "  </div>\n",
              "  "
            ]
          },
          "metadata": {},
          "execution_count": 3
        }
      ]
    },
    {
      "cell_type": "code",
      "source": [
        "# Get data types\n",
        "df_train.dtypes"
      ],
      "metadata": {
        "colab": {
          "base_uri": "https://localhost:8080/"
        },
        "id": "8H0Lki3rDliz",
        "outputId": "e6b20209-5119-43cb-b9fa-3e08c0157078"
      },
      "execution_count": 153,
      "outputs": [
        {
          "output_type": "execute_result",
          "data": {
            "text/plain": [
              "PassengerId      int64\n",
              "Survived         int64\n",
              "Pclass           int64\n",
              "Name            object\n",
              "Sex             object\n",
              "Age            float64\n",
              "SibSp            int64\n",
              "Parch            int64\n",
              "Ticket          object\n",
              "Fare           float64\n",
              "Cabin           object\n",
              "Embarked        object\n",
              "dtype: object"
            ]
          },
          "metadata": {},
          "execution_count": 153
        }
      ]
    },
    {
      "cell_type": "code",
      "execution_count": 154,
      "metadata": {
        "colab": {
          "base_uri": "https://localhost:8080/"
        },
        "id": "jkd1h4r1CbGq",
        "outputId": "eb84e17d-487b-46ca-893d-2b826b6bb5f0"
      },
      "outputs": [
        {
          "output_type": "stream",
          "name": "stdout",
          "text": [
            "PassengerId      0\n",
            "Survived         0\n",
            "Pclass           0\n",
            "Name             0\n",
            "Sex              0\n",
            "Age            177\n",
            "SibSp            0\n",
            "Parch            0\n",
            "Ticket           0\n",
            "Fare             0\n",
            "Cabin          687\n",
            "Embarked         2\n",
            "dtype: int64\n"
          ]
        }
      ],
      "source": [
        "# Count the amounts of nans in each column\n",
        "nan_count = df_train.isna().sum() # the age seems to be missing for 177 passengers, with the cabin missing for 687, and embarked being missed by 2 people\n",
        "print(nan_count)"
      ]
    },
    {
      "cell_type": "code",
      "source": [
        "# Looking for duplicates! None found\n",
        "df_doubles = df_train.loc[df_train.duplicated(subset=['Sex', 'Age', 'SibSp', 'Parch', 'Fare', 'Pclass']), :]\n",
        "df_doubles = df_doubles.sort_values(by=['Age', 'Fare', 'Sex', 'Pclass', 'SibSp', 'Parch'])\n",
        "pd.set_option('display.max_rows', None)\n",
        "df_doubles"
      ],
      "metadata": {
        "id": "jkIUfBGIEqDJ"
      },
      "execution_count": null,
      "outputs": []
    },
    {
      "cell_type": "markdown",
      "source": [
        "### Visualizing feature distributions and relationships"
      ],
      "metadata": {
        "id": "5SA3X3nkWaVg"
      }
    },
    {
      "cell_type": "code",
      "source": [
        "# Visualizing feature distributions across train/test sets to ensure they match\n",
        "df_test = pd.read_csv(DIR + 'test.csv')\n",
        "for f in ['Pclass', 'Sex', 'Age', 'SibSp', 'Parch', 'Fare']:\n",
        "  if (f == 'Age') or (f == 'Fare'):\n",
        "    df = df_train.loc[np.logical_not(df_train[f].isna()), :]\n",
        "  else:\n",
        "    df = df_train.copy()\n",
        "  plt.figure()\n",
        "  plt.hist(df_train[f], density=True, alpha=0.5)\n",
        "  plt.hist(df_test[f], density=True, alpha=0.5)\n",
        "  plt.xlabel(f)\n",
        "  plt.legend(['Train', 'Test'])\n",
        "  plt.show()"
      ],
      "metadata": {
        "colab": {
          "base_uri": "https://localhost:8080/",
          "height": 1000
        },
        "id": "vpkNpSBSEsQp",
        "outputId": "0291ad69-9984-401e-8307-171921be31cd"
      },
      "execution_count": 164,
      "outputs": [
        {
          "output_type": "display_data",
          "data": {
            "text/plain": [
              "<Figure size 432x288 with 1 Axes>"
            ],
            "image/png": "[encoded data removed]"
          },
          "metadata": {
            "needs_background": "light"
          }
        },
        {
          "output_type": "display_data",
          "data": {
            "text/plain": [
              "<Figure size 432x288 with 1 Axes>"
            ],
            "image/png": "[encoded data removed]"
          },
          "metadata": {
            "needs_background": "light"
          }
        },
        {
          "output_type": "display_data",
          "data": {
            "text/plain": [
              "<Figure size 432x288 with 1 Axes>"
            ],
            "image/png": "[encoded data removed]"
          },
          "metadata": {
            "needs_background": "light"
          }
        },
        {
          "output_type": "display_data",
          "data": {
            "text/plain": [
              "<Figure size 432x288 with 1 Axes>"
            ],
            "image/png": "[encoded data removed]"
          },
          "metadata": {
            "needs_background": "light"
          }
        },
        {
          "output_type": "display_data",
          "data": {
            "text/plain": [
              "<Figure size 432x288 with 1 Axes>"
            ],
            "image/png": "[encoded data removed]"
          },
          "metadata": {
            "needs_background": "light"
          }
        },
        {
          "output_type": "display_data",
          "data": {
            "text/plain": [
              "<Figure size 432x288 with 1 Axes>"
            ],
            "image/png": "[encoded data removed]"
          },
          "metadata": {
            "needs_background": "light"
          }
        }
      ]
    },
    {
      "cell_type": "code",
      "source": [
        "# Visualizing features against the feature of interest\n",
        "for f in ['Pclass', 'Sex', 'Age', 'SibSp', 'Parch', 'Fare']:\n",
        "  if f == 'Age':\n",
        "    df = df_train.loc[np.logical_not(df_train['Age'].isna()), :]\n",
        "  else:\n",
        "    df = df_train.copy()\n",
        "  plt.figure()\n",
        "  plt.hist(df.loc[(df_train['Survived']==1), f], density=True, alpha=0.5)\n",
        "  plt.hist(df.loc[(df_train['Survived']==0), f], density=True, alpha=0.5)\n",
        "  plt.xlabel(f)\n",
        "  plt.legend(['Alive', 'Dead'])\n",
        "  plt.show()\n",
        "\n",
        "  # Notes:\n",
        "  # The richer, the less likely you would die\n",
        "  # Men died disproportionally more than women\n",
        "  # Those younger than 15 had a significantly higher chance of surviving than those older\n",
        "  # The more parents you had and the less siblings, the more likely you were of surviving\n",
        "  # The higher your fare, the more likely you survived"
      ],
      "metadata": {
        "colab": {
          "base_uri": "https://localhost:8080/",
          "height": 1000
        },
        "collapsed": true,
        "id": "yKGO9kd4Y5pQ",
        "outputId": "42e8893b-5c6a-45ae-a084-e8e442f639f8"
      },
      "execution_count": 163,
      "outputs": [
        {
          "output_type": "display_data",
          "data": {
            "text/plain": [
              "<Figure size 432x288 with 1 Axes>"
            ],
            "image/png": "[encoded data removed]"
          },
          "metadata": {
            "needs_background": "light"
          }
        },
        {
          "output_type": "display_data",
          "data": {
            "text/plain": [
              "<Figure size 432x288 with 1 Axes>"
            ],
            "image/png": "[encoded data removed]"
          },
          "metadata": {
            "needs_background": "light"
          }
        },
        {
          "output_type": "display_data",
          "data": {
            "text/plain": [
              "<Figure size 432x288 with 1 Axes>"
            ],
            "image/png": "[encoded data removed]"
          },
          "metadata": {
            "needs_background": "light"
          }
        },
        {
          "output_type": "display_data",
          "data": {
            "text/plain": [
              "<Figure size 432x288 with 1 Axes>"
            ],
            "image/png": "[encoded data removed]"
          },
          "metadata": {
            "needs_background": "light"
          }
        },
        {
          "output_type": "display_data",
          "data": {
            "text/plain": [
              "<Figure size 432x288 with 1 Axes>"
            ],
            "image/png": "[encoded data removed]"
          },
          "metadata": {
            "needs_background": "light"
          }
        },
        {
          "output_type": "display_data",
          "data": {
            "text/plain": [
              "<Figure size 432x288 with 1 Axes>"
            ],
            "image/png": "[encoded data removed]"
          },
          "metadata": {
            "needs_background": "light"
          }
        }
      ]
    },
    {
      "cell_type": "code",
      "source": [
        "# Visualizing the log of the fare distribution\n",
        "X_dead, X_alive = df_train.loc[df_train['Survived'] == 0, 'Fare'], df_train.loc[df_train['Survived'] == 1, 'Fare']\n",
        "X_dead[X_dead < 1], X_alive[X_alive < 1] = 1, 1 # prevent numerical errors taking the log of the dist.\n",
        "logfare_dead, logfare_alive = np.log(X_dead), np.log(X_alive) # make distribution appear more normal\n",
        "plt.figure()\n",
        "plt.hist(logfare_dead, alpha=0.5)\n",
        "plt.hist(logfare_alive, alpha=0.5)\n",
        "plt.xlabel('LogFare')\n",
        "plt.legend(['Dead', 'Alive'])\n",
        "plt.show()"
      ],
      "metadata": {
        "colab": {
          "base_uri": "https://localhost:8080/",
          "height": 279
        },
        "id": "sxhiw8SxIOyo",
        "outputId": "a162d0cd-ace2-4fa8-f4eb-e07c585e0859"
      },
      "execution_count": 37,
      "outputs": [
        {
          "output_type": "display_data",
          "data": {
            "text/plain": [
              "<Figure size 432x288 with 1 Axes>"
            ],
            "image/png": "[encoded data removed]"
          },
          "metadata": {
            "needs_background": "light"
          }
        }
      ]
    },
    {
      "cell_type": "markdown",
      "source": [
        "### Conclusion:\n",
        "- Sex and Pclass seem to be the most predictive variables\n",
        "- SibSp and Parch may also be predictive\n",
        "- Age may be predictive, but would require imputation of missing values\n",
        "- Fares also seem predictive, but may be highly correlated with Pclass\n",
        "\n",
        "Variables not considered:\n",
        "- Name: While titles may be important, such information is likely to be correlated to Pclass and Fares\n",
        "- Ticket: While the ticket may contain information relative to ship location, I chose to focus on other present variables\n",
        "- Embarked: Where the passenger embarked is unlikely to reflect their chances of survival unless it reflects social class, which is already accounted for by Pclass"
      ],
      "metadata": {
        "id": "4jSJvk1ORXSk"
      }
    },
    {
      "cell_type": "markdown",
      "source": [
        "## 2. Model 1: Neglect Age Due To Missing Values\n",
        "In this section, I will avoid imputing the missing age variables and use other predictor variables.\n"
      ],
      "metadata": {
        "id": "p-Tgqi-0s0PN"
      }
    },
    {
      "cell_type": "code",
      "source": [
        "# Data Cleaning (including dummy encoding for variables)\n",
        "simple = SimpleImputer(strategy='median')\n",
        "df1 = df_train.drop(['Name', 'Ticket', 'Cabin', 'Embarked', 'Age', 'Parch', 'SibSp'], axis=1)\n",
        "df1 = pd.get_dummies(df1, prefix=['Pclass', 'Sex'], columns=['Pclass', 'Sex'], drop_first=True)\n",
        "# Take log of the fares\n",
        "df1.loc[df1['Fare'] < 1, 'Fare'] = 1 # prevent numerical errors from taking the log\n",
        "df1['Fare'] = np.log(df1['Fare']) # take log to make fares distribution appear more normal\n",
        "# Drop outliers in the fares, and standardize values\n",
        "fare_scaler = StandardScaler()\n",
        "fare_scaler = fare_scaler.fit(df1[['Fare']])\n",
        "df1['Fare'] = fare_scaler.transform(df1[['Fare']])\n",
        "simple = simple.fit(df1.drop('PassengerId', axis=1)) # exclude ID from imputation\n",
        "df1 = pd.DataFrame(data=np.c_[df1['PassengerId'],simple.transform(df1.drop('PassengerId', axis=1))], columns=df1.columns)"
      ],
      "metadata": {
        "id": "htvU0WtTszVI"
      },
      "execution_count": 38,
      "outputs": []
    },
    {
      "cell_type": "code",
      "source": [
        "# Defining train and test sets\n",
        "X, y = df1.drop(['Survived', 'PassengerId'], axis=1), df1['Survived']\n",
        "X_train, X_test, y_train, y_test = train_test_split(X, y, test_size=0.25, random_state=0) # train-test split!"
      ],
      "metadata": {
        "id": "H3S_0nZ_eIET"
      },
      "execution_count": 39,
      "outputs": []
    },
    {
      "cell_type": "code",
      "source": [
        "# Logistic Regression sklearn gridsearch\n",
        "params = {\n",
        "    'penalty' : ['l1', 'l2'],\n",
        "    'C' : np.logspace(-4, 4, 20),\n",
        "    'solver': ['lbfgs', 'liblinear', 'newton-cholesky']\n",
        "    }\n",
        "reg = LogisticRegression()\n",
        "clf = GridSearchCV(reg, params, scoring='accuracy', verbose=1).fit(X_train, y_train)\n",
        "pd.DataFrame(clf.cv_results_).sort_values(by='rank_test_score')"
      ],
      "metadata": {
        "id": "dpctH66I6QgW"
      },
      "execution_count": null,
      "outputs": []
    },
    {
      "cell_type": "code",
      "source": [
        "# Best parameter values according to grid search\n",
        "model = LogisticRegression(C=29.7635, penalty='l1', solver='liblinear').fit(X_train, y_train)\n",
        "print(classification_report(y_test, model.predict(X_test)))"
      ],
      "metadata": {
        "colab": {
          "base_uri": "https://localhost:8080/"
        },
        "id": "Mnjs957K81Pi",
        "outputId": "8f73cbed-ac99-4ec3-e3b5-1ebb2e894051"
      },
      "execution_count": 41,
      "outputs": [
        {
          "output_type": "stream",
          "name": "stdout",
          "text": [
            "              precision    recall  f1-score   support\n",
            "\n",
            "         0.0       0.82      0.83      0.82       139\n",
            "         1.0       0.71      0.70      0.71        84\n",
            "\n",
            "    accuracy                           0.78       223\n",
            "   macro avg       0.77      0.76      0.77       223\n",
            "weighted avg       0.78      0.78      0.78       223\n",
            "\n"
          ]
        }
      ]
    },
    {
      "cell_type": "code",
      "source": [
        "# Grid search outcome for SVM!\n",
        "params = {\n",
        "    'gamma' : [1, 0.1, 0.01, 0.001],\n",
        "    'C' : [0.1, 1, 10, 100],\n",
        "    'kernel': ['rbf', 'poly', 'sigmoid', 'linear']\n",
        "    }\n",
        "model = SVC()\n",
        "clf = GridSearchCV(model, params, scoring='accuracy', verbose=1).fit(X_train, y_train)\n",
        "pd.DataFrame(clf.cv_results_).sort_values(by='rank_test_score')"
      ],
      "metadata": {
        "id": "1TiOt6EG-UzV"
      },
      "execution_count": null,
      "outputs": []
    },
    {
      "cell_type": "code",
      "source": [
        "# Best parameter values according to grid search\n",
        "model = SVC(C=10, gamma=0.1, kernel='rbf').fit(X_train, y_train)\n",
        "print(classification_report(y_test, model.predict(X_test)))"
      ],
      "metadata": {
        "colab": {
          "base_uri": "https://localhost:8080/"
        },
        "id": "aXkEi_E8d2Bw",
        "outputId": "2c52527b-d9af-4178-a77c-cab17d2a7d8b"
      },
      "execution_count": 43,
      "outputs": [
        {
          "output_type": "stream",
          "name": "stdout",
          "text": [
            "              precision    recall  f1-score   support\n",
            "\n",
            "         0.0       0.82      0.87      0.85       139\n",
            "         1.0       0.76      0.69      0.72        84\n",
            "\n",
            "    accuracy                           0.80       223\n",
            "   macro avg       0.79      0.78      0.79       223\n",
            "weighted avg       0.80      0.80      0.80       223\n",
            "\n"
          ]
        }
      ]
    },
    {
      "cell_type": "code",
      "source": [
        "# Grid Search for Decision Trees!\n",
        "params = {\n",
        "    'criterion' : ['gini', 'entropy'],\n",
        "    'max_depth' : range(10),\n",
        "    'min_samples_split': range(10),\n",
        "    'min_samples_leaf': range(5)\n",
        "      }\n",
        "model = DecisionTreeClassifier()\n",
        "clf = GridSearchCV(model, params, scoring='accuracy', verbose=1).fit(X_train, y_train)\n",
        "pd.DataFrame(clf.cv_results_).sort_values(by='rank_test_score')"
      ],
      "metadata": {
        "id": "Ff3XpRx9Xjr1"
      },
      "execution_count": null,
      "outputs": []
    },
    {
      "cell_type": "code",
      "source": [
        "# Best parameter values according to grid search\n",
        "model = DecisionTreeClassifier(criterion='gini', max_depth=3, min_samples_leaf=4, min_samples_split=6).fit(X_train, y_train)\n",
        "print(classification_report(y_test, model.predict(X_test)))"
      ],
      "metadata": {
        "colab": {
          "base_uri": "https://localhost:8080/"
        },
        "id": "g-twq6qx9wsW",
        "outputId": "c19c862c-fb97-4553-9349-69d5483548e0"
      },
      "execution_count": 45,
      "outputs": [
        {
          "output_type": "stream",
          "name": "stdout",
          "text": [
            "              precision    recall  f1-score   support\n",
            "\n",
            "         0.0       0.83      0.85      0.84       139\n",
            "         1.0       0.74      0.71      0.73        84\n",
            "\n",
            "    accuracy                           0.80       223\n",
            "   macro avg       0.79      0.78      0.78       223\n",
            "weighted avg       0.80      0.80      0.80       223\n",
            "\n"
          ]
        }
      ]
    },
    {
      "cell_type": "code",
      "source": [
        "# Grid Search for Random Forests!\n",
        "params = {\n",
        "    'criterion' : ['gini', 'entropy'],\n",
        "    'max_depth' : range(0, 10, 2),\n",
        "    'min_samples_split': range(1, 10, 2),\n",
        "    'min_samples_leaf': range(5),\n",
        "    'n_estimators': [10, 50, 100, 150]\n",
        "      }\n",
        "model = RandomForestClassifier()\n",
        "clf = GridSearchCV(model, params, scoring='accuracy', verbose=1).fit(X_train, y_train)\n",
        "pd.DataFrame(clf.cv_results_).sort_values(by='rank_test_score')"
      ],
      "metadata": {
        "id": "lw5gmtE9fCHV"
      },
      "execution_count": null,
      "outputs": []
    },
    {
      "cell_type": "code",
      "source": [
        "# Best parameter values according to grid search\n",
        "model = RandomForestClassifier(criterion='entropy', max_depth=6,\n",
        "                               min_samples_leaf=1, min_samples_split=5, \n",
        "                               n_estimators=50 ).fit(X_train, y_train)\n",
        "print(classification_report(y_test, model.predict(X_test)))"
      ],
      "metadata": {
        "colab": {
          "base_uri": "https://localhost:8080/"
        },
        "id": "4USUrovN-Lj3",
        "outputId": "15466f51-2895-42cc-ead1-701c85beb1fb"
      },
      "execution_count": 47,
      "outputs": [
        {
          "output_type": "stream",
          "name": "stdout",
          "text": [
            "              precision    recall  f1-score   support\n",
            "\n",
            "         0.0       0.82      0.87      0.85       139\n",
            "         1.0       0.76      0.69      0.72        84\n",
            "\n",
            "    accuracy                           0.80       223\n",
            "   macro avg       0.79      0.78      0.79       223\n",
            "weighted avg       0.80      0.80      0.80       223\n",
            "\n"
          ]
        }
      ]
    },
    {
      "cell_type": "code",
      "source": [
        "# Grid Search for Boosted Trees!\n",
        "params = {\n",
        "    'learning_rate': [0.01, 0.025, 0.05, 0.075, 0.1, 0.15, 0.2],\n",
        "    'max_depth' : range(4, 10, 2),\n",
        "    'min_samples_split': range(1, 10, 2),\n",
        "    'min_samples_leaf': range(1, 10, 2),\n",
        "    'n_estimators': [10, 50]\n",
        "      }\n",
        "model = GradientBoostingClassifier()\n",
        "clf = GridSearchCV(model, params, scoring='accuracy', verbose=1).fit(X_train, y_train)\n",
        "pd.DataFrame(clf.cv_results_).sort_values(by='rank_test_score')"
      ],
      "metadata": {
        "id": "WA1Zt0jtrjSO"
      },
      "execution_count": null,
      "outputs": []
    },
    {
      "cell_type": "code",
      "source": [
        "# Best parameter values according to grid search\n",
        "model = GradientBoostingClassifier(learning_rate=0.15, max_depth=4,\n",
        "                              min_samples_split=7, min_samples_leaf=1,\n",
        "                               n_estimators=50).fit(X_train, y_train)\n",
        "print(classification_report(y_test, model.predict(X_test)))"
      ],
      "metadata": {
        "colab": {
          "base_uri": "https://localhost:8080/"
        },
        "id": "2SF96llr_-Vg",
        "outputId": "95352fd8-39f8-4b1f-e308-695298b03504"
      },
      "execution_count": 49,
      "outputs": [
        {
          "output_type": "stream",
          "name": "stdout",
          "text": [
            "              precision    recall  f1-score   support\n",
            "\n",
            "         0.0       0.82      0.88      0.85       139\n",
            "         1.0       0.77      0.69      0.73        84\n",
            "\n",
            "    accuracy                           0.81       223\n",
            "   macro avg       0.80      0.78      0.79       223\n",
            "weighted avg       0.81      0.81      0.80       223\n",
            "\n"
          ]
        }
      ]
    },
    {
      "cell_type": "markdown",
      "source": [],
      "metadata": {
        "id": "pOiwPq9_Ax8A"
      }
    },
    {
      "cell_type": "markdown",
      "source": [
        "## 3. Model 2: Imputation For Missing Values\n",
        "This section will be used to ensure imputation is taken care of, while also accounting for the Age iv. As was validated heuristically, the SimpleImputer using the median seemed to exhibit similar performance improvements to the KNNImputer, hence the former was used."
      ],
      "metadata": {
        "id": "UzSG7cPqv2Yz"
      }
    },
    {
      "cell_type": "code",
      "source": [
        "# Trying to do simple median imputation, and comparing results with KNNImputation\n",
        "simple = SimpleImputer(strategy='median') # --> Median chosen for outlier robustness\n",
        "# Data Cleaning (including dummy encoding for variables)\n",
        "df1 = df_train.drop(['Name', 'Ticket', 'Cabin', 'Embarked', 'Parch', 'SibSp'], axis=1)\n",
        "df1 = pd.get_dummies(df1, prefix=['Pclass', 'Sex'], columns=['Pclass', 'Sex'], drop_first=True)\n",
        "# Take log of the fares\n",
        "df1.loc[df1['Fare'] < 1, 'Fare'] = 1 # prevent numerical errors from taking the log\n",
        "df1['Fare'] = np.log(df1['Fare']) # take log to make fares distribution appear more normal\n",
        "# Standard scaling prior to imputation\n",
        "scaler = StandardScaler()\n",
        "scaler = scaler.fit(df1.loc[~df1['Age'].isna(), ['Fare', 'Age']])\n",
        "df1[['Fare', 'Age']] = scaler.transform(df1[['Fare', 'Age']])\n",
        "# Creating 2 differently imputed datasets\n",
        "simple = simple.fit(df1.drop(['PassengerId', 'Survived'], axis=1)) # exclude ID from imputation\n",
        "df1 = pd.DataFrame(data=np.c_[df1[['PassengerId', 'Survived']],\n",
        "                              simple.transform(df1.drop(['PassengerId', 'Survived'], axis=1))],\n",
        "                              columns=df1.columns)"
      ],
      "metadata": {
        "id": "VA50hPR1wEwK"
      },
      "execution_count": 5,
      "outputs": []
    },
    {
      "cell_type": "code",
      "source": [
        "# Logistic Regression results with either imputed dataset for comparison!\n",
        "df_data = df1.copy() # which imputed dataset to use (seemingly worse score with knn imputer)\n",
        "X, y = df_data.drop(['Survived', 'PassengerId'], axis=1), df_data['Survived']\n",
        "X_train, X_test, y_train, y_test = train_test_split(X, y, test_size=0.2, random_state=0) # train-test split!\n",
        "params = {\n",
        "    'penalty': ['l1', 'l2'],\n",
        "    'C' : np.logspace(-4, 4, 20),\n",
        "    'solver': ['lbfgs', 'liblinear', 'newton-cg']\n",
        "    }\n",
        "reg = LogisticRegression()\n",
        "clf = GridSearchCV(reg, params, scoring='accuracy', verbose=1).fit(X_train, y_train)\n",
        "pd.DataFrame(clf.cv_results_).sort_values(by='rank_test_score')"
      ],
      "metadata": {
        "id": "gdWU7aAR3Ffo"
      },
      "execution_count": null,
      "outputs": []
    },
    {
      "cell_type": "code",
      "source": [
        "# Best parameters according to grid search\n",
        "model = LogisticRegression(C=0.6158, penalty='l2', solver='liblinear').fit(X_train, y_train)\n",
        "print(classification_report(y_test, model.predict(X_test)))"
      ],
      "metadata": {
        "colab": {
          "base_uri": "https://localhost:8080/"
        },
        "id": "Xu6UlMLHBrxF",
        "outputId": "ce01f535-ef12-4189-a087-bae221b190a0"
      },
      "execution_count": 52,
      "outputs": [
        {
          "output_type": "stream",
          "name": "stdout",
          "text": [
            "              precision    recall  f1-score   support\n",
            "\n",
            "         0.0       0.82      0.85      0.84       110\n",
            "         1.0       0.75      0.70      0.72        69\n",
            "\n",
            "    accuracy                           0.79       179\n",
            "   macro avg       0.78      0.78      0.78       179\n",
            "weighted avg       0.79      0.79      0.79       179\n",
            "\n"
          ]
        }
      ]
    },
    {
      "cell_type": "code",
      "source": [
        "# SVM results with either imputed dataset for comparison!\n",
        "df_data = df1.copy() # which imputed dataset to use (Seemingly no difference in the ending test score)\n",
        "X, y = df_data.drop(['Survived', 'PassengerId'], axis=1), df_data['Survived']\n",
        "X_train, X_test, y_train, y_test = train_test_split(X, y, test_size=0.2, random_state=0) # train-test split!\n",
        "params = {\n",
        "    'gamma' : [1, 0.1, 0.01, 0.001],\n",
        "    'C' : [0.1, 1, 10, 100],\n",
        "    'kernel': ['rbf', 'poly', 'sigmoid']\n",
        "    }\n",
        "model = SVC()\n",
        "clf = GridSearchCV(model, params, scoring='accuracy', verbose=1).fit(X_train, y_train)\n",
        "pd.DataFrame(clf.cv_results_).sort_values(by='rank_test_score')"
      ],
      "metadata": {
        "id": "FRRDBmlD3wzE"
      },
      "execution_count": null,
      "outputs": []
    },
    {
      "cell_type": "code",
      "source": [
        "# Best parameter values according to grid search\n",
        "model = SVC(C=10, gamma=1, kernel='rbf').fit(X_train, y_train)\n",
        "print(classification_report(y_test, model.predict(X_test)))"
      ],
      "metadata": {
        "colab": {
          "base_uri": "https://localhost:8080/"
        },
        "id": "KMWdv4UbCVw7",
        "outputId": "271e94c6-50e5-4cb5-a230-da41cafd2f9a"
      },
      "execution_count": 10,
      "outputs": [
        {
          "output_type": "stream",
          "name": "stdout",
          "text": [
            "              precision    recall  f1-score   support\n",
            "\n",
            "         0.0       0.80      0.89      0.84       110\n",
            "         1.0       0.79      0.64      0.70        69\n",
            "\n",
            "    accuracy                           0.79       179\n",
            "   macro avg       0.79      0.76      0.77       179\n",
            "weighted avg       0.79      0.79      0.79       179\n",
            "\n"
          ]
        }
      ]
    },
    {
      "cell_type": "code",
      "source": [
        "# RandomForest results with either imputed dataset for comparison! --> Any form of imputation to include age seems to boost scores\n",
        "df_data = df1.copy() # which imputed dataset to use (Seemingly no difference in the ending test score)\n",
        "X, y = df_data.drop(['Survived', 'PassengerId'], axis=1), df_data['Survived']\n",
        "X_train, X_test, y_train, y_test = train_test_split(X, y, test_size=0.2, random_state=0) # train-test split!\n",
        "params = {\n",
        "    'criterion' : ['gini', 'entropy'],\n",
        "    'max_depth' : range(2, 20, 1),\n",
        "    'min_samples_split': range(2, 10),\n",
        "    'min_samples_leaf': range(1, 10),\n",
        "    'n_estimators': [90, 100, 115, 130]\n",
        "      }\n",
        "model = RandomForestClassifier()\n",
        "clf = GridSearchCV(model, params, scoring='accuracy', verbose=1).fit(X_train, y_train)\n",
        "pd.DataFrame(clf.cv_results_).sort_values(by='rank_test_score')"
      ],
      "metadata": {
        "id": "HrM1GfCL4gDC"
      },
      "execution_count": 6,
      "outputs": []
    },
    {
      "cell_type": "code",
      "source": [
        "# Best parameter values according to grid search\n",
        "model = RandomForestClassifier(\n",
        "    criterion='gini',\n",
        "    max_depth=8,\n",
        "    min_samples_leaf=1,\n",
        "    min_samples_split=6,\t\n",
        "    n_estimators=115\n",
        ").fit(X_train, y_train)\n",
        "print(classification_report(y_test, model.predict(X_test)))"
      ],
      "metadata": {
        "colab": {
          "base_uri": "https://localhost:8080/"
        },
        "id": "Hyvql_VjMYmj",
        "outputId": "16c6bc1e-1655-41df-bbd9-8e745ae9eedd"
      },
      "execution_count": 7,
      "outputs": [
        {
          "output_type": "stream",
          "name": "stdout",
          "text": [
            "              precision    recall  f1-score   support\n",
            "\n",
            "         0.0       0.83      0.95      0.88       110\n",
            "         1.0       0.89      0.68      0.77        69\n",
            "\n",
            "    accuracy                           0.84       179\n",
            "   macro avg       0.86      0.81      0.83       179\n",
            "weighted avg       0.85      0.84      0.84       179\n",
            "\n"
          ]
        }
      ]
    },
    {
      "cell_type": "markdown",
      "source": [
        "## Deep Learning: A Vanilla NN Approach\n",
        "In this section, I will attempt to build a robust vanilla neural network with Keras to predit the output of whether someone survived or died. Since the median imputer did not seem to affect performance relative to the KNN imputer, I will continue using the median imputer for this section."
      ],
      "metadata": {
        "id": "yib-wVKX_YyG"
      }
    },
    {
      "cell_type": "code",
      "source": [
        "# Trying to do simple median imputation, and comparing results with KNNImputation\n",
        "simple = SimpleImputer(strategy='median') # --> Median chosen for outlier robustness\n",
        "# Data Cleaning (including dummy encoding for variables)\n",
        "df1 = df_train.drop(['Name', 'Ticket', 'Cabin', 'Embarked', 'Parch', 'SibSp'], axis=1)\n",
        "df1 = pd.get_dummies(df1, prefix=['Pclass', 'Sex'], columns=['Pclass', 'Sex'], drop_first=True)\n",
        "# Take log of the fares\n",
        "df1.loc[df1['Fare'] < 1, 'Fare'] = 1 # prevent numerical errors from taking the log\n",
        "df1['Fare'] = np.log(df1['Fare']) # take log to make fares distribution appear more normal\n",
        "# Standard scaling prior to imputation\n",
        "scaler = StandardScaler()\n",
        "scaler = scaler.fit(df1.loc[~df1['Age'].isna(), ['Fare', 'Age']])\n",
        "df1[['Fare', 'Age']] = scaler.transform(df1[['Fare', 'Age']])\n",
        "# Creating 2 differently imputed datasets\n",
        "simple = simple.fit(df1.drop(['PassengerId', 'Survived'], axis=1)) # exclude ID from imputation\n",
        "df1 = pd.DataFrame(data=np.c_[df1[['PassengerId', 'Survived']],\n",
        "                              simple.transform(df1.drop(['PassengerId', 'Survived'], axis=1))],\n",
        "                              columns=df1.columns)"
      ],
      "metadata": {
        "id": "_Mhguji9DJnn"
      },
      "execution_count": 122,
      "outputs": []
    },
    {
      "cell_type": "code",
      "source": [
        "import tensorflow as tf\n",
        "from tensorflow import keras\n",
        "from tensorflow.keras import layers\n",
        "\n",
        "# Train test split\n",
        "X, y = df1.drop(['Survived', 'PassengerId'], axis=1), df1['Survived']\n",
        "X_train, X_test, y_train, y_test = train_test_split(X, y, test_size=0.2, random_state=0) # train-test split!\n",
        "X_train, X_val, y_train, y_val = train_test_split(X_train, y_train, test_size=0.2, random_state=0) # train-val split!\n",
        "\n",
        "# Initialize model architecture\n",
        "model = keras.Sequential()\n",
        "model.add(layers.Dense(10, input_shape=(5,)))\n",
        "# model.add(layers.Dropout(0.1))\n",
        "model.add(layers.Activation('relu'))\n",
        "model.add(layers.Dense(7))\n",
        "# model.add(layers.Dropout(0.1))\n",
        "model.add(layers.Activation('relu'))\n",
        "model.add(layers.Dense(5))\n",
        "# model.add(layers.Dropout(0.1))\n",
        "model.add(layers.Activation('relu'))\n",
        "model.add(layers.Dense(3))\n",
        "model.add(layers.Activation('relu'))\n",
        "model.add(layers.Dense(1, activation='sigmoid')) # since binary classification\n",
        "\n",
        "# Set optimizer and compile\n",
        "opt = opt = keras.optimizers.Adam(learning_rate=3e-3)\n",
        "model.compile(loss='binary_crossentropy', optimizer=opt, metrics=['accuracy'])\n",
        "\n",
        "# Training\n",
        "history = model.fit(X_train, y_train, epochs=100, validation_data=(X_val, y_val), batch_size=16)"
      ],
      "metadata": {
        "colab": {
          "base_uri": "https://localhost:8080/"
        },
        "id": "Akc8aDus_6Jq",
        "outputId": "f08dde82-5e42-49a5-ec8f-896b31f5c766"
      },
      "execution_count": 136,
      "outputs": [
        {
          "output_type": "stream",
          "name": "stdout",
          "text": [
            "Epoch 1/100\n",
            "36/36 [==============================] - 2s 21ms/step - loss: 0.6793 - accuracy: 0.6257 - val_loss: 0.6706 - val_accuracy: 0.5944\n",
            "Epoch 2/100\n",
            "36/36 [==============================] - 0s 7ms/step - loss: 0.6168 - accuracy: 0.7469 - val_loss: 0.6056 - val_accuracy: 0.6993\n",
            "Epoch 3/100\n",
            "36/36 [==============================] - 0s 5ms/step - loss: 0.5115 - accuracy: 0.7803 - val_loss: 0.5624 - val_accuracy: 0.6783\n",
            "Epoch 4/100\n",
            "36/36 [==============================] - 0s 3ms/step - loss: 0.4548 - accuracy: 0.8014 - val_loss: 0.5528 - val_accuracy: 0.7413\n",
            "Epoch 5/100\n",
            "36/36 [==============================] - 0s 2ms/step - loss: 0.4221 - accuracy: 0.8278 - val_loss: 0.5501 - val_accuracy: 0.7552\n",
            "Epoch 6/100\n",
            "36/36 [==============================] - 0s 3ms/step - loss: 0.4117 - accuracy: 0.8207 - val_loss: 0.5484 - val_accuracy: 0.7552\n",
            "Epoch 7/100\n",
            "36/36 [==============================] - 0s 2ms/step - loss: 0.4041 - accuracy: 0.8295 - val_loss: 0.5621 - val_accuracy: 0.7692\n",
            "Epoch 8/100\n",
            "36/36 [==============================] - 0s 2ms/step - loss: 0.3984 - accuracy: 0.8313 - val_loss: 0.5620 - val_accuracy: 0.7692\n",
            "Epoch 9/100\n",
            "36/36 [==============================] - 0s 2ms/step - loss: 0.3934 - accuracy: 0.8330 - val_loss: 0.5692 - val_accuracy: 0.7622\n",
            "Epoch 10/100\n",
            "36/36 [==============================] - 0s 2ms/step - loss: 0.3910 - accuracy: 0.8348 - val_loss: 0.5617 - val_accuracy: 0.7622\n",
            "Epoch 11/100\n",
            "36/36 [==============================] - 0s 2ms/step - loss: 0.3876 - accuracy: 0.8348 - val_loss: 0.5624 - val_accuracy: 0.7692\n",
            "Epoch 12/100\n",
            "36/36 [==============================] - 0s 2ms/step - loss: 0.3854 - accuracy: 0.8383 - val_loss: 0.5819 - val_accuracy: 0.7692\n",
            "Epoch 13/100\n",
            "36/36 [==============================] - 0s 2ms/step - loss: 0.3917 - accuracy: 0.8313 - val_loss: 0.5737 - val_accuracy: 0.7762\n",
            "Epoch 14/100\n",
            "36/36 [==============================] - 0s 2ms/step - loss: 0.3881 - accuracy: 0.8366 - val_loss: 0.5699 - val_accuracy: 0.7692\n",
            "Epoch 15/100\n",
            "36/36 [==============================] - 0s 2ms/step - loss: 0.3830 - accuracy: 0.8401 - val_loss: 0.5848 - val_accuracy: 0.7622\n",
            "Epoch 16/100\n",
            "36/36 [==============================] - 0s 3ms/step - loss: 0.3828 - accuracy: 0.8418 - val_loss: 0.5797 - val_accuracy: 0.7692\n",
            "Epoch 17/100\n",
            "36/36 [==============================] - 0s 2ms/step - loss: 0.3850 - accuracy: 0.8383 - val_loss: 0.5663 - val_accuracy: 0.7692\n",
            "Epoch 18/100\n",
            "36/36 [==============================] - 0s 2ms/step - loss: 0.3875 - accuracy: 0.8383 - val_loss: 0.5913 - val_accuracy: 0.7622\n",
            "Epoch 19/100\n",
            "36/36 [==============================] - 0s 2ms/step - loss: 0.3797 - accuracy: 0.8366 - val_loss: 0.5781 - val_accuracy: 0.7692\n",
            "Epoch 20/100\n",
            "36/36 [==============================] - 0s 3ms/step - loss: 0.3803 - accuracy: 0.8418 - val_loss: 0.5837 - val_accuracy: 0.7692\n",
            "Epoch 21/100\n",
            "36/36 [==============================] - 0s 3ms/step - loss: 0.3794 - accuracy: 0.8401 - val_loss: 0.5941 - val_accuracy: 0.7692\n",
            "Epoch 22/100\n",
            "36/36 [==============================] - 0s 2ms/step - loss: 0.3800 - accuracy: 0.8436 - val_loss: 0.6028 - val_accuracy: 0.7552\n",
            "Epoch 23/100\n",
            "36/36 [==============================] - 0s 3ms/step - loss: 0.3828 - accuracy: 0.8348 - val_loss: 0.5814 - val_accuracy: 0.7692\n",
            "Epoch 24/100\n",
            "36/36 [==============================] - 0s 3ms/step - loss: 0.3810 - accuracy: 0.8313 - val_loss: 0.5930 - val_accuracy: 0.7692\n",
            "Epoch 25/100\n",
            "36/36 [==============================] - 0s 3ms/step - loss: 0.3797 - accuracy: 0.8330 - val_loss: 0.5942 - val_accuracy: 0.7622\n",
            "Epoch 26/100\n",
            "36/36 [==============================] - 0s 2ms/step - loss: 0.3796 - accuracy: 0.8366 - val_loss: 0.5939 - val_accuracy: 0.7692\n",
            "Epoch 27/100\n",
            "36/36 [==============================] - 0s 2ms/step - loss: 0.3745 - accuracy: 0.8401 - val_loss: 0.5960 - val_accuracy: 0.7622\n",
            "Epoch 28/100\n",
            "36/36 [==============================] - 0s 3ms/step - loss: 0.3740 - accuracy: 0.8383 - val_loss: 0.5937 - val_accuracy: 0.7762\n",
            "Epoch 29/100\n",
            "36/36 [==============================] - 0s 2ms/step - loss: 0.3748 - accuracy: 0.8348 - val_loss: 0.6019 - val_accuracy: 0.7692\n",
            "Epoch 30/100\n",
            "36/36 [==============================] - 0s 2ms/step - loss: 0.3761 - accuracy: 0.8418 - val_loss: 0.5933 - val_accuracy: 0.7692\n",
            "Epoch 31/100\n",
            "36/36 [==============================] - 0s 2ms/step - loss: 0.3780 - accuracy: 0.8348 - val_loss: 0.6026 - val_accuracy: 0.7692\n",
            "Epoch 32/100\n",
            "36/36 [==============================] - 0s 2ms/step - loss: 0.3729 - accuracy: 0.8418 - val_loss: 0.5956 - val_accuracy: 0.7692\n",
            "Epoch 33/100\n",
            "36/36 [==============================] - 0s 3ms/step - loss: 0.3693 - accuracy: 0.8418 - val_loss: 0.6073 - val_accuracy: 0.7692\n",
            "Epoch 34/100\n",
            "36/36 [==============================] - 0s 3ms/step - loss: 0.3766 - accuracy: 0.8366 - val_loss: 0.5984 - val_accuracy: 0.7692\n",
            "Epoch 35/100\n",
            "36/36 [==============================] - 0s 2ms/step - loss: 0.3803 - accuracy: 0.8313 - val_loss: 0.5937 - val_accuracy: 0.7692\n",
            "Epoch 36/100\n",
            "36/36 [==============================] - 0s 3ms/step - loss: 0.3710 - accuracy: 0.8418 - val_loss: 0.6054 - val_accuracy: 0.7692\n",
            "Epoch 37/100\n",
            "36/36 [==============================] - 0s 3ms/step - loss: 0.3687 - accuracy: 0.8383 - val_loss: 0.6105 - val_accuracy: 0.7622\n",
            "Epoch 38/100\n",
            "36/36 [==============================] - 0s 2ms/step - loss: 0.3720 - accuracy: 0.8366 - val_loss: 0.6110 - val_accuracy: 0.7692\n",
            "Epoch 39/100\n",
            "36/36 [==============================] - 0s 3ms/step - loss: 0.3687 - accuracy: 0.8471 - val_loss: 0.6058 - val_accuracy: 0.7762\n",
            "Epoch 40/100\n",
            "36/36 [==============================] - 0s 3ms/step - loss: 0.3697 - accuracy: 0.8436 - val_loss: 0.6042 - val_accuracy: 0.7622\n",
            "Epoch 41/100\n",
            "36/36 [==============================] - 0s 3ms/step - loss: 0.3684 - accuracy: 0.8366 - val_loss: 0.6153 - val_accuracy: 0.7692\n",
            "Epoch 42/100\n",
            "36/36 [==============================] - 0s 2ms/step - loss: 0.3746 - accuracy: 0.8366 - val_loss: 0.6087 - val_accuracy: 0.7692\n",
            "Epoch 43/100\n",
            "36/36 [==============================] - 0s 3ms/step - loss: 0.3704 - accuracy: 0.8453 - val_loss: 0.6223 - val_accuracy: 0.7692\n",
            "Epoch 44/100\n",
            "36/36 [==============================] - 0s 2ms/step - loss: 0.3729 - accuracy: 0.8366 - val_loss: 0.6051 - val_accuracy: 0.7622\n",
            "Epoch 45/100\n",
            "36/36 [==============================] - 0s 2ms/step - loss: 0.3694 - accuracy: 0.8418 - val_loss: 0.6156 - val_accuracy: 0.7692\n",
            "Epoch 46/100\n",
            "36/36 [==============================] - 0s 3ms/step - loss: 0.3661 - accuracy: 0.8436 - val_loss: 0.6174 - val_accuracy: 0.7622\n",
            "Epoch 47/100\n",
            "36/36 [==============================] - 0s 2ms/step - loss: 0.3703 - accuracy: 0.8401 - val_loss: 0.6188 - val_accuracy: 0.7762\n",
            "Epoch 48/100\n",
            "36/36 [==============================] - 0s 3ms/step - loss: 0.3725 - accuracy: 0.8366 - val_loss: 0.6173 - val_accuracy: 0.7692\n",
            "Epoch 49/100\n",
            "36/36 [==============================] - 0s 2ms/step - loss: 0.3693 - accuracy: 0.8401 - val_loss: 0.6091 - val_accuracy: 0.7692\n",
            "Epoch 50/100\n",
            "36/36 [==============================] - 0s 3ms/step - loss: 0.3702 - accuracy: 0.8418 - val_loss: 0.6106 - val_accuracy: 0.7622\n",
            "Epoch 51/100\n",
            "36/36 [==============================] - 0s 2ms/step - loss: 0.3687 - accuracy: 0.8383 - val_loss: 0.6106 - val_accuracy: 0.7622\n",
            "Epoch 52/100\n",
            "36/36 [==============================] - 0s 2ms/step - loss: 0.3686 - accuracy: 0.8383 - val_loss: 0.6239 - val_accuracy: 0.7692\n",
            "Epoch 53/100\n",
            "36/36 [==============================] - 0s 2ms/step - loss: 0.3645 - accuracy: 0.8436 - val_loss: 0.6307 - val_accuracy: 0.7552\n",
            "Epoch 54/100\n",
            "36/36 [==============================] - 0s 2ms/step - loss: 0.3678 - accuracy: 0.8348 - val_loss: 0.6310 - val_accuracy: 0.7692\n",
            "Epoch 55/100\n",
            "36/36 [==============================] - 0s 3ms/step - loss: 0.3651 - accuracy: 0.8436 - val_loss: 0.6237 - val_accuracy: 0.7692\n",
            "Epoch 56/100\n",
            "36/36 [==============================] - 0s 2ms/step - loss: 0.3617 - accuracy: 0.8436 - val_loss: 0.6217 - val_accuracy: 0.7622\n",
            "Epoch 57/100\n",
            "36/36 [==============================] - 0s 3ms/step - loss: 0.3615 - accuracy: 0.8418 - val_loss: 0.6296 - val_accuracy: 0.7762\n",
            "Epoch 58/100\n",
            "36/36 [==============================] - 0s 3ms/step - loss: 0.3650 - accuracy: 0.8471 - val_loss: 0.6283 - val_accuracy: 0.7622\n",
            "Epoch 59/100\n",
            "36/36 [==============================] - 0s 3ms/step - loss: 0.3621 - accuracy: 0.8436 - val_loss: 0.6265 - val_accuracy: 0.7762\n",
            "Epoch 60/100\n",
            "36/36 [==============================] - 0s 2ms/step - loss: 0.3578 - accuracy: 0.8383 - val_loss: 0.6198 - val_accuracy: 0.7762\n",
            "Epoch 61/100\n",
            "36/36 [==============================] - 0s 3ms/step - loss: 0.3661 - accuracy: 0.8418 - val_loss: 0.6176 - val_accuracy: 0.7762\n",
            "Epoch 62/100\n",
            "36/36 [==============================] - 0s 3ms/step - loss: 0.3650 - accuracy: 0.8418 - val_loss: 0.6188 - val_accuracy: 0.7832\n",
            "Epoch 63/100\n",
            "36/36 [==============================] - 0s 4ms/step - loss: 0.3650 - accuracy: 0.8366 - val_loss: 0.6097 - val_accuracy: 0.7762\n",
            "Epoch 64/100\n",
            "36/36 [==============================] - 0s 3ms/step - loss: 0.3632 - accuracy: 0.8418 - val_loss: 0.6327 - val_accuracy: 0.7692\n",
            "Epoch 65/100\n",
            "36/36 [==============================] - 0s 2ms/step - loss: 0.3613 - accuracy: 0.8418 - val_loss: 0.6172 - val_accuracy: 0.7692\n",
            "Epoch 66/100\n",
            "36/36 [==============================] - 0s 3ms/step - loss: 0.3601 - accuracy: 0.8436 - val_loss: 0.6309 - val_accuracy: 0.7692\n",
            "Epoch 67/100\n",
            "36/36 [==============================] - 0s 3ms/step - loss: 0.3568 - accuracy: 0.8418 - val_loss: 0.6289 - val_accuracy: 0.7762\n",
            "Epoch 68/100\n",
            "36/36 [==============================] - 0s 3ms/step - loss: 0.3584 - accuracy: 0.8453 - val_loss: 0.6290 - val_accuracy: 0.7762\n",
            "Epoch 69/100\n",
            "36/36 [==============================] - 0s 3ms/step - loss: 0.3633 - accuracy: 0.8418 - val_loss: 0.6503 - val_accuracy: 0.7762\n",
            "Epoch 70/100\n",
            "36/36 [==============================] - 0s 2ms/step - loss: 0.3593 - accuracy: 0.8418 - val_loss: 0.6292 - val_accuracy: 0.7762\n",
            "Epoch 71/100\n",
            "36/36 [==============================] - 0s 2ms/step - loss: 0.3605 - accuracy: 0.8489 - val_loss: 0.6401 - val_accuracy: 0.7762\n",
            "Epoch 72/100\n",
            "36/36 [==============================] - 0s 2ms/step - loss: 0.3563 - accuracy: 0.8436 - val_loss: 0.6344 - val_accuracy: 0.7762\n",
            "Epoch 73/100\n",
            "36/36 [==============================] - 0s 2ms/step - loss: 0.3617 - accuracy: 0.8295 - val_loss: 0.6458 - val_accuracy: 0.7692\n",
            "Epoch 74/100\n",
            "36/36 [==============================] - 0s 2ms/step - loss: 0.3585 - accuracy: 0.8453 - val_loss: 0.6432 - val_accuracy: 0.7622\n",
            "Epoch 75/100\n",
            "36/36 [==============================] - 0s 2ms/step - loss: 0.3562 - accuracy: 0.8489 - val_loss: 0.6347 - val_accuracy: 0.7692\n",
            "Epoch 76/100\n",
            "36/36 [==============================] - 0s 2ms/step - loss: 0.3561 - accuracy: 0.8471 - val_loss: 0.6555 - val_accuracy: 0.7692\n",
            "Epoch 77/100\n",
            "36/36 [==============================] - 0s 3ms/step - loss: 0.3562 - accuracy: 0.8436 - val_loss: 0.6210 - val_accuracy: 0.7622\n",
            "Epoch 78/100\n",
            "36/36 [==============================] - 0s 3ms/step - loss: 0.3567 - accuracy: 0.8453 - val_loss: 0.6473 - val_accuracy: 0.7762\n",
            "Epoch 79/100\n",
            "36/36 [==============================] - 0s 2ms/step - loss: 0.3593 - accuracy: 0.8471 - val_loss: 0.6294 - val_accuracy: 0.7762\n",
            "Epoch 80/100\n",
            "36/36 [==============================] - 0s 3ms/step - loss: 0.3547 - accuracy: 0.8471 - val_loss: 0.6357 - val_accuracy: 0.7692\n",
            "Epoch 81/100\n",
            "36/36 [==============================] - 0s 2ms/step - loss: 0.3563 - accuracy: 0.8348 - val_loss: 0.6284 - val_accuracy: 0.7552\n",
            "Epoch 82/100\n",
            "36/36 [==============================] - 0s 2ms/step - loss: 0.3558 - accuracy: 0.8348 - val_loss: 0.6598 - val_accuracy: 0.7552\n",
            "Epoch 83/100\n",
            "36/36 [==============================] - 0s 2ms/step - loss: 0.3565 - accuracy: 0.8348 - val_loss: 0.6391 - val_accuracy: 0.7622\n",
            "Epoch 84/100\n",
            "36/36 [==============================] - 0s 2ms/step - loss: 0.3523 - accuracy: 0.8418 - val_loss: 0.6433 - val_accuracy: 0.7762\n",
            "Epoch 85/100\n",
            "36/36 [==============================] - 0s 2ms/step - loss: 0.3494 - accuracy: 0.8471 - val_loss: 0.6671 - val_accuracy: 0.7762\n",
            "Epoch 86/100\n",
            "36/36 [==============================] - 0s 2ms/step - loss: 0.3545 - accuracy: 0.8436 - val_loss: 0.6576 - val_accuracy: 0.7552\n",
            "Epoch 87/100\n",
            "36/36 [==============================] - 0s 3ms/step - loss: 0.3555 - accuracy: 0.8453 - val_loss: 0.6557 - val_accuracy: 0.7762\n",
            "Epoch 88/100\n",
            "36/36 [==============================] - 0s 3ms/step - loss: 0.3556 - accuracy: 0.8383 - val_loss: 0.6305 - val_accuracy: 0.7692\n",
            "Epoch 89/100\n",
            "36/36 [==============================] - 0s 3ms/step - loss: 0.3531 - accuracy: 0.8471 - val_loss: 0.6577 - val_accuracy: 0.7692\n",
            "Epoch 90/100\n",
            "36/36 [==============================] - 0s 3ms/step - loss: 0.3517 - accuracy: 0.8436 - val_loss: 0.6467 - val_accuracy: 0.7762\n",
            "Epoch 91/100\n",
            "36/36 [==============================] - 0s 3ms/step - loss: 0.3496 - accuracy: 0.8436 - val_loss: 0.6466 - val_accuracy: 0.7622\n",
            "Epoch 92/100\n",
            "36/36 [==============================] - 0s 2ms/step - loss: 0.3536 - accuracy: 0.8471 - val_loss: 0.6590 - val_accuracy: 0.7762\n",
            "Epoch 93/100\n",
            "36/36 [==============================] - 0s 2ms/step - loss: 0.3506 - accuracy: 0.8453 - val_loss: 0.6511 - val_accuracy: 0.7832\n",
            "Epoch 94/100\n",
            "36/36 [==============================] - 0s 3ms/step - loss: 0.3528 - accuracy: 0.8506 - val_loss: 0.6449 - val_accuracy: 0.7692\n",
            "Epoch 95/100\n",
            "36/36 [==============================] - 0s 3ms/step - loss: 0.3505 - accuracy: 0.8541 - val_loss: 0.6529 - val_accuracy: 0.7622\n",
            "Epoch 96/100\n",
            "36/36 [==============================] - 0s 3ms/step - loss: 0.3517 - accuracy: 0.8471 - val_loss: 0.6600 - val_accuracy: 0.7622\n",
            "Epoch 97/100\n",
            "36/36 [==============================] - 0s 2ms/step - loss: 0.3508 - accuracy: 0.8436 - val_loss: 0.6805 - val_accuracy: 0.7692\n",
            "Epoch 98/100\n",
            "36/36 [==============================] - 0s 2ms/step - loss: 0.3494 - accuracy: 0.8471 - val_loss: 0.6526 - val_accuracy: 0.7762\n",
            "Epoch 99/100\n",
            "36/36 [==============================] - 0s 3ms/step - loss: 0.3482 - accuracy: 0.8453 - val_loss: 0.6773 - val_accuracy: 0.7622\n",
            "Epoch 100/100\n",
            "36/36 [==============================] - 0s 2ms/step - loss: 0.3463 - accuracy: 0.8471 - val_loss: 0.6531 - val_accuracy: 0.7552\n"
          ]
        }
      ]
    },
    {
      "cell_type": "code",
      "source": [
        "# Evaluating performance of model on an unseen test set\n",
        "score = model.evaluate(X_test, y_test, verbose=0)\n",
        "print('Test loss:', score[0])\n",
        "print('Test accuracy:', score[1])"
      ],
      "metadata": {
        "colab": {
          "base_uri": "https://localhost:8080/"
        },
        "id": "smVCtzqcJWD2",
        "outputId": "de1c1e79-9e6b-49bc-c119-ebf283c5f922"
      },
      "execution_count": 137,
      "outputs": [
        {
          "output_type": "stream",
          "name": "stdout",
          "text": [
            "Test loss: 0.3875597417354584\n",
            "Test accuracy: 0.8212290406227112\n"
          ]
        }
      ]
    },
    {
      "cell_type": "code",
      "source": [
        "# Double checking that I'm doing things right\n",
        "pred = (model.predict(X_test) > 0.5).astype(np.int32)\n",
        "print('Accuracy: {}'.format(np.mean((pred.flatten()==y_test).astype(int))))"
      ],
      "metadata": {
        "colab": {
          "base_uri": "https://localhost:8080/"
        },
        "id": "3dXes1NTYIJ8",
        "outputId": "9303e68b-7fd5-4518-9830-1203bf0b39ee"
      },
      "execution_count": 138,
      "outputs": [
        {
          "output_type": "stream",
          "name": "stdout",
          "text": [
            "6/6 [==============================] - 0s 3ms/step\n",
            "Accuracy: 0.8212290502793296\n"
          ]
        }
      ]
    },
    {
      "cell_type": "markdown",
      "source": [
        "# Submission!\n",
        "Below I have run my best performing model on the test set and submitted the output. Wish me luck!"
      ],
      "metadata": {
        "id": "e-4p8adkNIeR"
      }
    },
    {
      "cell_type": "code",
      "source": [
        "# Loading in the data\n",
        "df_test = pd.read_csv(DIR + 'test.csv')\n",
        "# Data Cleaning (including dummy encoding for variables)\n",
        "df1 = df_test.drop(['Name', 'Ticket', 'Cabin', 'Embarked', 'Parch', 'SibSp'], axis=1)\n",
        "df1 = pd.get_dummies(df1, prefix=['Pclass', 'Sex'], columns=['Pclass', 'Sex'], drop_first=True)\n",
        "# Take log of the fares\n",
        "df1.loc[df1['Fare'] < 1, 'Fare'] = 1 # prevent numerical errors from taking the log\n",
        "df1['Fare'] = np.log(df1['Fare']) # take log to make fares distribution appear more normal\n",
        "# Standard scaling prior to imputation (with previously trained scaler)\n",
        "df1[['Fare', 'Age']] = scaler.transform(df1[['Fare', 'Age']])\n",
        "# Imputing missing values with previously fitted imputer\n",
        "df1 = pd.DataFrame(data=np.c_[df1['PassengerId'],\n",
        "                              simple.transform(df1.drop('PassengerId', axis=1))],\n",
        "                    columns=df1.columns)"
      ],
      "metadata": {
        "id": "WJun1CU2PEla"
      },
      "execution_count": 8,
      "outputs": []
    },
    {
      "cell_type": "code",
      "source": [
        "df1['PassengerId'] = df1['PassengerId'].astype(np.int32)"
      ],
      "metadata": {
        "id": "phtOvtgiSNfT"
      },
      "execution_count": 9,
      "outputs": []
    },
    {
      "cell_type": "code",
      "source": [
        "# Obtaining model predictions :)\n",
        "y_test = (model.predict(df1.drop('PassengerId', axis=1)).astype(np.int32))\n",
        "submission = df1[['PassengerId']]\n",
        "submission['Survived'] = y_test\n",
        "submission.to_csv('submission.csv', index=False)"
      ],
      "metadata": {
        "colab": {
          "base_uri": "https://localhost:8080/"
        },
        "id": "2EgmBzDCWwSY",
        "outputId": "60c5ecbd-a536-45aa-d3e1-7436e397ffad"
      },
      "execution_count": 11,
      "outputs": [
        {
          "output_type": "stream",
          "name": "stderr",
          "text": [
            "<ipython-input-11-719a79e9b9f3>:4: SettingWithCopyWarning: \n",
            "A value is trying to be set on a copy of a slice from a DataFrame.\n",
            "Try using .loc[row_indexer,col_indexer] = value instead\n",
            "\n",
            "See the caveats in the documentation: https://pandas.pydata.org/pandas-docs/stable/user_guide/indexing.html#returning-a-view-versus-a-copy\n",
            "  submission['Survived'] = y_test\n"
          ]
        }
      ]
    },
    {
      "cell_type": "code",
      "source": [
        "# Deep learning submission\n",
        "y_test = (model.predict(df1.drop('PassengerId', axis=1)) > 0.5).astype(np.int32)\n",
        "submission = df1[['PassengerId']]\n",
        "submission['Survived'] = y_test\n",
        "submission.to_csv('submission.csv', index=False)"
      ],
      "metadata": {
        "colab": {
          "base_uri": "https://localhost:8080/"
        },
        "id": "02u_4qKUWdz8",
        "outputId": "efda0390-f6c4-4e43-f5c4-3552084e48fb"
      },
      "execution_count": 121,
      "outputs": [
        {
          "output_type": "stream",
          "name": "stdout",
          "text": [
            "14/14 [==============================] - 0s 1ms/step\n"
          ]
        },
        {
          "output_type": "stream",
          "name": "stderr",
          "text": [
            "<ipython-input-121-1f14d5c86b92>:4: SettingWithCopyWarning: \n",
            "A value is trying to be set on a copy of a slice from a DataFrame.\n",
            "Try using .loc[row_indexer,col_indexer] = value instead\n",
            "\n",
            "See the caveats in the documentation: https://pandas.pydata.org/pandas-docs/stable/user_guide/indexing.html#returning-a-view-versus-a-copy\n",
            "  submission['Survived'] = y_test\n"
          ]
        }
      ]
    },
    {
      "cell_type": "code",
      "source": [
        "y_test.dtype"
      ],
      "metadata": {
        "colab": {
          "base_uri": "https://localhost:8080/"
        },
        "id": "XFgX51_qHQTt",
        "outputId": "3de11a13-5125-40bb-aa1d-b9a53ff5c265"
      },
      "execution_count": 29,
      "outputs": [
        {
          "output_type": "execute_result",
          "data": {
            "text/plain": [
              "dtype('float64')"
            ]
          },
          "metadata": {},
          "execution_count": 29
        }
      ]
    }
  ]
}